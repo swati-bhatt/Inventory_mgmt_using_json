{
 "cells": [
  {
   "cell_type": "code",
   "execution_count": 53,
   "id": "fe8602a8-a58a-4f6f-9b80-b4bcda6c386e",
   "metadata": {},
   "outputs": [],
   "source": [
    "records={1001:{'Name':'Dairy-milk', 'price':15, 'quantity':400},\n",
    "        1002:{'Name':'Five-star',   'price':30, 'quantity':500},\n",
    "        1003:{'Name':'Milky-bar',   'price':25, 'quantity':200},\n",
    "        1004:{'Name':'Lotte-Chocopie','price':50, 'quantity':100},\n",
    "        1005:{'Name':'Snickers',    'price':10, 'quantity':1000}}"
   ]
  },
  {
   "cell_type": "code",
   "execution_count": 93,
   "id": "07df33f4-0002-457a-9f19-3dacd1fd6f43",
   "metadata": {},
   "outputs": [
    {
     "data": {
      "text/plain": [
       "{1001: {'Name': 'Dairy-milk', 'price': 15, 'quantity': 394},\n",
       " 1002: {'Name': 'Five-star', 'price': 30, 'quantity': 500},\n",
       " 1003: {'Name': 'Milky-bar', 'price': 25, 'quantity': 200},\n",
       " 1004: {'Name': 'Lotte Chocopie', 'price': 50, 'quantity': 100},\n",
       " 1005: {'Name': 'Snickers', 'price': 10, 'quantity': 1000}}"
      ]
     },
     "execution_count": 93,
     "metadata": {},
     "output_type": "execute_result"
    }
   ],
   "source": [
    "records"
   ]
  },
  {
   "cell_type": "code",
   "execution_count": 91,
   "id": "63f9d2e8-a7a4-492a-8f44-3a462846085b",
   "metadata": {},
   "outputs": [
    {
     "name": "stdout",
     "output_type": "stream",
     "text": [
      "----------------- MENU -----------------\n",
      "1001 : Dairy-milk \t| 15 \t| 396\n",
      "1002 : Five-star \t| 30 \t| 500\n",
      "1003 : Milky-bar \t| 25 \t| 200\n",
      "1004 : Lotte Chocopie \t| 50 \t| 100\n",
      "1005 : Snickers \t| 10 \t| 1000\n",
      "---------------------------------------- \n",
      "\n"
     ]
    },
    {
     "name": "stdin",
     "output_type": "stream",
     "text": [
      "Enter Product ID:  1001\n",
      "Enter Quantity:  2\n"
     ]
    },
    {
     "name": "stdout",
     "output_type": "stream",
     "text": [
      "----------------------------------------\n",
      "                  BILL                  \n",
      "Name               : Dairy-milk\n",
      "Price              : 15 Rs\n",
      "Quantity           : 2\n",
      "----------------------------------------\n",
      "Billing Amount     : 30 Rs\n",
      "----------------------------------------\n"
     ]
    }
   ],
   "source": [
    "import json\n",
    "print(\"-\"*17,\"MENU\",\"-\"*17)\n",
    "\n",
    "for key in records.keys():\n",
    "    print(key,':', records[key][\"Name\"],'\\t|' ,records[key][\"price\"],'\\t|' ,records[key][\"quantity\"])\n",
    "\n",
    "print(\"-\"*40,\"\\n\")\n",
    "\n",
    "ui_pr_id=int(input(\"Enter Product ID: \"))\n",
    "ui_qu=int(input(\"Enter Quantity: \"))\n",
    "\n",
    "records[ui_pr_id]['quantity']-=ui_qu\n",
    "\n",
    "print(\"-\"*40)\n",
    "\n",
    "print(\" \"*17,\"BILL\",\" \"*17)\n",
    "\n",
    "print(\"Name               :\",records[ui_pr_id][\"Name\"])\n",
    "print(\"Price              :\",records[ui_pr_id][\"price\"], \"Rs\")\n",
    "print(\"Quantity           :\",ui_qu)\n",
    "print(\"-\"*40)\n",
    "print(\"Billing Amount     :\",ui_qu*records[ui_pr_id][\"price\"], \"Rs\")\n",
    "print(\"-\"*40)\n",
    "\n",
    "js=json.dumps(records)\n",
    "fd=open(\"Records.json\",'w')\n",
    "fd.write(js)\n",
    "fd.close()\n"
   ]
  },
  {
   "cell_type": "code",
   "execution_count": null,
   "id": "d7569312-f4ce-4a7d-8451-55a6c230ca78",
   "metadata": {},
   "outputs": [],
   "source": []
  }
 ],
 "metadata": {
  "kernelspec": {
   "display_name": "Python 3 (ipykernel)",
   "language": "python",
   "name": "python3"
  },
  "language_info": {
   "codemirror_mode": {
    "name": "ipython",
    "version": 3
   },
   "file_extension": ".py",
   "mimetype": "text/x-python",
   "name": "python",
   "nbconvert_exporter": "python",
   "pygments_lexer": "ipython3",
   "version": "3.12.4"
  }
 },
 "nbformat": 4,
 "nbformat_minor": 5
}
