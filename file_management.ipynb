{
 "cells": [
  {
   "cell_type": "code",
   "execution_count": 3,
   "id": "fe8602a8-a58a-4f6f-9b80-b4bcda6c386e",
   "metadata": {},
   "outputs": [
    {
     "data": {
      "text/plain": [
       "{1001: {'Name': 'Dairy-milk', 'price': 15, 'quantity': 400},\n",
       " 1002: {'Name': 'Five-star', 'price': 30, 'quantity': 500},\n",
       " 1003: {'Name': 'Milky-bar', 'price': 25, 'quantity': 200},\n",
       " 1004: {'Name': 'Lotte-Chocopie', 'price': 50, 'quantity': 100},\n",
       " 1005: {'Name': 'Snickers', 'price': 10, 'quantity': 1000}}"
      ]
     },
     "execution_count": 3,
     "metadata": {},
     "output_type": "execute_result"
    }
   ],
   "source": [
    "records={1001:{'Name':'Dairy-milk', 'price':15, 'quantity':400},\n",
    "        1002:{'Name':'Five-star',   'price':30, 'quantity':500},\n",
    "        1003:{'Name':'Milky-bar',   'price':25, 'quantity':200},\n",
    "        1004:{'Name':'Lotte-Chocopie','price':50, 'quantity':100},\n",
    "        1005:{'Name':'Snickers',    'price':10, 'quantity':1000}}\n",
    "records"
   ]
  },
  {
   "cell_type": "code",
   "execution_count": 5,
   "id": "17ca6f98-e444-4d23-a6a2-07e30670d41b",
   "metadata": {},
   "outputs": [
    {
     "name": "stdout",
     "output_type": "stream",
     "text": [
      "----------------- MENU -----------------\n",
      "1001 : Dairy-milk \t| 15 \t| 998\n",
      "1002 : Five-star \t| 30 \t| 100\n",
      "1003 : Milky-bar \t| 25 \t| 93\n",
      "1004 : Lotte Chocopie \t| 50 \t| 155\n",
      "1005 : Snickers \t| 10 \t| 765\n",
      "---------------------------------------- \n",
      "\n"
     ]
    },
    {
     "name": "stdin",
     "output_type": "stream",
     "text": [
      "Enter Your Name   : khushi\n",
      "Enter Your Phone : 283748\n",
      "Enter your Email : khushi@yahoo.com\n",
      "Enter Product ID :  1002\n",
      "Enter Quantity  :  4\n"
     ]
    },
    {
     "name": "stdout",
     "output_type": "stream",
     "text": [
      "----------------------------------------\n",
      "                  BILL                  \n",
      "Name               : Five-star\n",
      "Price              : 30 Rs\n",
      "Quantity           : 4\n",
      "----------------------------------------\n",
      "Total Amount       : 120 Rs\n",
      "GST->18%           : 21.599999999999998 Rs\n",
      "----------------------------------------\n",
      "Billing Amount     : 141.6 Rs\n",
      "----------------------------------------\n",
      "Visit Again:)\n",
      "\n",
      "\n",
      "----------- Inventory Updated -----------\n",
      "------------- Sales Updated -------------\n"
     ]
    }
   ],
   "source": [
    "# import json\n",
    "import time\n",
    "\n",
    "fd=open(\"Records.json\",'r')\n",
    "js=fd.read()\n",
    "fd.close()\n",
    "\n",
    "#string to dict format\n",
    "records=json.loads(js)\n",
    "\n",
    "\n",
    "print(\"-\"*17,\"MENU\",\"-\"*17)\n",
    "\n",
    "for key in records.keys():\n",
    "    print(key,':', records[key][\"Name\"],'\\t|' ,records[key][\"price\"],'\\t|' ,records[key][\"quantity\"])\n",
    "    \n",
    "print(\"-\"*40,\"\\n\")\n",
    "\n",
    "ui_name=input(\"Enter Your Name   :\")\n",
    "ui_phone=input(\"Enter Your Phone :\")\n",
    "ui_email=input(\"Enter your Email :\")\n",
    "ui_pr_id=input(\"Enter Product ID : \")\n",
    "ui_qu=int(input(\"Enter Quantity  : \"))\n",
    "sale=\"\"\n",
    "print(\"-\"*40)\n",
    "if records[ui_pr_id][\"quantity\"]>=ui_qu:\n",
    "    print(\" \"*17,\"BILL\",\" \"*17)\n",
    "    print(\"Name               :\",records[ui_pr_id][\"Name\"])\n",
    "    print(\"Price              :\",records[ui_pr_id][\"price\"], \"Rs\")\n",
    "    print(\"Quantity           :\",ui_qu)\n",
    "    print(\"-\"*40)\n",
    "    amount=total=ui_qu*records[ui_pr_id][\"price\"]\n",
    "    print(\"Total Amount       :\",total, \"Rs\")\n",
    "    gst=(18/100)*total\n",
    "    print(\"GST->18%           :\",gst,\"Rs\")\n",
    "    total+=gst\n",
    "    discount=0\n",
    "    \n",
    "    if(total>1000):\n",
    "            discount=(5/100)*total\n",
    "            print(\"Discount->5%       :\", discount,\"Rs\")\n",
    "            total=total-discount\n",
    "    print(\"-\"*40)        \n",
    "    print(\"Billing Amount     :\",total, \"Rs\")\n",
    "    print(\"-\"*40)\n",
    "\n",
    "    sale=ui_name+','+ui_phone+','+ui_email+','+ui_pr_id+','+records[ui_pr_id][\"Name\"]+','+str(records[ui_pr_id][\"price\"])+','+str(ui_qu)+','+str(amount)+','+str(gst)+','+str(discount)+','+str(total)+','+time.ctime()+'\\n'\n",
    "    records[ui_pr_id]['quantity']-=ui_qu\n",
    "    \n",
    "elif(records[ui_pr_id][\"quantity\"]==0):\n",
    "    Print(\"This Product is Currently Out of Stock\")\n",
    "    \n",
    "else:\n",
    "    print(\"We are not having enough Stock right now.\")\n",
    "    print(\"We currently have only \", records[ui_pr_id][\"quantity\"], \" of them\")\n",
    "    ch=input(\"Enter Y/y if u would like to purchase them all\")\n",
    "    \n",
    "    if(ch=='y' or ch=='Y'):\n",
    "        print(\" \"*17,\"BILL\",\" \"*17)\n",
    "        print(\"Name               :\",records[ui_pr_id][\"Name\"])\n",
    "        print(\"Price              :\",records[ui_pr_id][\"price\"], \"Rs\")\n",
    "        print(\"Quantity           :\",records[ui_pr_id][\"quantity\"])\n",
    "        print(\"-\"*40)\n",
    "        amount=total=records[ui_pr_id][\"quantity\"]*records[ui_pr_id][\"price\"]\n",
    "        print(\"Total Amount       :\",total, \"Rs\")\n",
    "        gst=(18/100)*total\n",
    "        print(\"GST->18%           :\",gst,\"Rs\")\n",
    "        total+=gst\n",
    "        discount=0\n",
    "        \n",
    "        if(total>1000):\n",
    "            discount=(5/100)*total\n",
    "            print(\"Discount->5%       :\", discount,\"Rs\")\n",
    "            total=total-discount\n",
    "            \n",
    "        print(\"-\"*40)   \n",
    "        print(\"Billing Amount     :\",total, \"Rs\")\n",
    "        print(\"-\"*40)\n",
    "        sale=ui_name+','+ui_phone+','+ui_email+','+ui_pr_id+','+records[ui_pr_id][\"Name\"]+','+str(records[ui_pr_id][\"price\"])+','+str(records[ui_pr_id][\"quantity\"])+','+str(amount)+','+str(gst)+','+str(discount)+','+str(total)+','+time.ctime()+'\\n'\n",
    "        records[ui_pr_id]['quantity']=0\n",
    "    else:\n",
    "        print(\"No Problem\")\n",
    "        \n",
    "print(\"Visit Again:)\")      \n",
    "    \n",
    "#dict to string format\n",
    "js=json.dumps(records)\n",
    "\n",
    "fd=open(\"Records.json\",'w')\n",
    "fd.write(js)\n",
    "fd.close()\n",
    "\n",
    "fd=open('sales.txt','a')\n",
    "fd.write(sale)\n",
    "fd.close()\n",
    "print('\\n')\n",
    "print(\"-\"*11,\"Inventory Updated\",\"-\"*11)\n",
    "print(\"-\"*13,\"Sales Updated\",\"-\"*13)\n"
   ]
  },
  {
   "cell_type": "code",
   "execution_count": 119,
   "id": "d7569312-f4ce-4a7d-8451-55a6c230ca78",
   "metadata": {},
   "outputs": [
    {
     "data": {
      "text/plain": [
       "{'1001': {'Name': 'Dairy-milk', 'price': 15, 'quantity': 1000},\n",
       " '1002': {'Name': 'Five-star', 'price': 30, 'quantity': 300},\n",
       " '1003': {'Name': 'Milky-bar', 'price': 25, 'quantity': 200},\n",
       " '1004': {'Name': 'Lotte Chocopie', 'price': 50, 'quantity': 98},\n",
       " '1005': {'Name': 'Snickers', 'price': 10, 'quantity': 1000}}"
      ]
     },
     "execution_count": 119,
     "metadata": {},
     "output_type": "execute_result"
    }
   ],
   "source": [
    "import json\n",
    "\n",
    "fd=open(\"Records.json\",'r')\n",
    "js=fd.read()\n",
    "fd.close()\n",
    "\n",
    "records=json.loads(js)\n",
    "records"
   ]
  }
 ],
 "metadata": {
  "kernelspec": {
   "display_name": "Python 3 (ipykernel)",
   "language": "python",
   "name": "python3"
  },
  "language_info": {
   "codemirror_mode": {
    "name": "ipython",
    "version": 3
   },
   "file_extension": ".py",
   "mimetype": "text/x-python",
   "name": "python",
   "nbconvert_exporter": "python",
   "pygments_lexer": "ipython3",
   "version": "3.12.4"
  }
 },
 "nbformat": 4,
 "nbformat_minor": 5
}
